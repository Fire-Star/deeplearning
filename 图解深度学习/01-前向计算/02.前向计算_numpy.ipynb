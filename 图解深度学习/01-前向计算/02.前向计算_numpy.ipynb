{
 "cells": [
  {
   "cell_type": "code",
   "execution_count": 5,
   "id": "35226a90-86eb-45cd-a2d9-573e7dcb350d",
   "metadata": {},
   "outputs": [],
   "source": [
    "import numpy as np\n",
    "\n",
    "def neural_network(inputs, weights):\n",
    "    pred = inputs.dot(weights)\n",
    "    return pred"
   ]
  },
  {
   "cell_type": "code",
   "execution_count": 6,
   "id": "cea07c3d-d40b-47e8-bfe6-eac1bcef53d7",
   "metadata": {},
   "outputs": [],
   "source": [
    "weights = np.array([0.1, 0.2, 0])\n",
    "\n",
    "toes = np.array([8.5, 9.5, 9.9, 9.0])\n",
    "wlrec = np.array([0.65, 0.8, 0.8, 0.9])\n",
    "nfans = np.array([1.2 ,1.3, 0.5, 1.0])"
   ]
  },
  {
   "cell_type": "code",
   "execution_count": 7,
   "id": "e23e9b6b-a29f-466f-8a70-28d4dca2b99c",
   "metadata": {},
   "outputs": [
    {
     "data": {
      "text/plain": [
       "np.float64(0.9800000000000001)"
      ]
     },
     "execution_count": 7,
     "metadata": {},
     "output_type": "execute_result"
    }
   ],
   "source": [
    "inputs = np.array([toes[0], wlrec[0], nfans[0]])\n",
    "\n",
    "pred = neural_network(inputs, weights)\n",
    "\n",
    "pred"
   ]
  }
 ],
 "metadata": {
  "kernelspec": {
   "display_name": "Python 3 (ipykernel)",
   "language": "python",
   "name": "python3"
  },
  "language_info": {
   "codemirror_mode": {
    "name": "ipython",
    "version": 3
   },
   "file_extension": ".py",
   "mimetype": "text/x-python",
   "name": "python",
   "nbconvert_exporter": "python",
   "pygments_lexer": "ipython3",
   "version": "3.9.22"
  }
 },
 "nbformat": 4,
 "nbformat_minor": 5
}
